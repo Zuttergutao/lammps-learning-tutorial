{
 "cells": [
  {
   "cell_type": "markdown",
   "id": "07d53fb2-61cd-4741-9a12-04cb26b98e22",
   "metadata": {},
   "source": [
    "一般来说，in文件内容的主要框架包含以下几个部分：\n",
    " 1. 初始模拟系统设置\n",
    " 2. 初始模型构建（读取模型数据）\n",
    " 3. 定义原子间相互作用势或设置力场（势文件或力场文件）\n",
    " 4. 定义原子/体系某些信息的计算（原子势能。。）\n",
    " 5. 定义输出原子（坐标）/体系（热力学）信息\n",
    " 6. 模拟环境设定并运行"
   ]
  },
  {
   "cell_type": "code",
   "execution_count": null,
   "id": "6539ab5a-573b-4fe6-9066-dc877699b135",
   "metadata": {},
   "outputs": [],
   "source": [
    "%%writefile relax.in\n",
    "# 初始模拟系统设置\n",
    "units        metal    # 单位选择十分重要\n",
    "atom_style   atomic\n",
    "boundary     p p p    # 定义边界条件\n",
    "\n",
    "# 初始模型构建（读取模型数据）\n",
    "lattice      bcc 3.168\n",
    "region       box block 0 5 0 5 0 5\n",
    "create_box   1 box\n",
    "create_atoms 1 box\n",
    "\n",
    "# 定义原子间相互作用势或设置力场（势文件或力场文件）\n",
    "pair_style   eam/alloy\n",
    "pair_coeff   * * W_zhou.eam.alloy W  # * * 表示考虑任意两个原子间的相互作用\n",
    "\n",
    "# 定义原子/体系某些信息的计算（原子势能。。）\n",
    "compute      1 all pe/atom\n",
    "\n",
    "# 定义输出原子（坐标）/体系（热力学）信息\n",
    "thermo       10\n",
    "thermo_style custom step temp pe etotal dt time\n",
    "dump         1 all custom 100 W.xyz id type x y z\n",
    "\n",
    "# 模拟环境设定并运行\n",
    "velocity     all create 300 666 mom yes rot yes dist gaussian\n",
    "fix          1 all nvt temp 300 300 0.05\n",
    "timestep     0.001\n",
    "run          10000"
   ]
  },
  {
   "cell_type": "code",
   "execution_count": null,
   "id": "6e218dc1-b07d-492b-a252-7cf1f5072ded",
   "metadata": {
    "tags": []
   },
   "outputs": [],
   "source": [
    "!\"E:/LAMMPS/bin/lmp\" < relax.in"
   ]
  },
  {
   "cell_type": "markdown",
   "id": "8535cff7-98fc-46ad-8353-25dfdde511e0",
   "metadata": {},
   "source": [
    "# 初始模拟系统设置\n",
    "### unit metal\n",
    "定义整个模拟中的单位\n",
    "### boundary p p p\n",
    "boundary命令是用来定义边界条件的，LAMMPS提供了四种边界条件  \n",
    "p：周期性边界条件  \n",
    "f：非周期性边界条件，采用这种边界条件，当有原子运动到盒子以外的区域时，该原子便会被系统删除。需与thermo_modify和lost ignore 这条命令结合使用。  \n",
    "s：该方向的长度会随着原子的运动而改变（以保证不丢失原子）。  \n",
    "m：该方向的大小会随着原子的运动而改变，但该方向长度有最小值。  \n",
    "boundary    p p p (三个方向均为周期性边界条件)  \n",
    "boundary    p p f (只有z方向为f)  \n",
    "boundary    p p s  \n",
    "boundary    p p m  \n",
    "### atom_style atomic  \n",
    "告诉LAMMPS模拟的体系中有什么比如说原子，键角，电荷之类的，  \n",
    "若模型中只有原子：  \n",
    "atom_style       atomic（一般金属体系就选这个即可）  \n",
    "若模型中还要考虑键角作用，则：  \n",
    "atom_style       angle （可能适合于水分子模型模拟）  \n",
    "### neighbor skin style\n",
    "- skin=extra distance beyond force cutoff(distance units)\n",
    "- style=bin / nsp / multi\n",
    "LAMMPS在计算各个粒子间作用力时，当两个原子的距离超过截断半径时，它们之间的作用将不被考虑。但是，分子动力学程序在运行时，如果每一步都要判断每个原子的截断半径内有哪些原子，所耗费的计算资源也会随之原子数的增加而指数级增加。为了并行加速计算，LAMMPS构建邻域列表节省原子之间距离的判断的时间。\n",
    "neighbor命令一般可以不用设置，即保持默认值即可，体系较大时可以适当与neighbor_modify（定义邻域列表的更新频率）修改参数减少计算量（增大bin的值以及降低更新列表的频率。。）\n",
    "\n",
    "### dimension \n",
    "定义模拟体系维度的，一般默认为3维（所以一般不用管），也可以设置为2维"
   ]
  },
  {
   "cell_type": "markdown",
   "id": "b0be9b6e-1ac9-4790-af8f-d8b0bfd87cea",
   "metadata": {},
   "source": [
    "# 初始模型构建\n",
    "## read_data  file.dat\n",
    "直接读取模型文件\n",
    "## 使用命令创建简单模型\n",
    "- lattice\n",
    "- region\n",
    "- create_box\n",
    "- create_atoms\n",
    "- group\n",
    "- delete_atoms\n",
    "\n",
    "### lattice\n",
    "定义晶格类型，晶格常数，以及晶向方向  \n",
    "lattice bcc 3.168 orient x 1 0 0 orient y 0 1 0 orient z 0 0 1  \n",
    "构建一个晶格常数为3.168，晶格类型为bcc的模型，其x方向的矢量为 [100]。。。。。  \n",
    "默认值  \n",
    "orient x 1 0 0 orienty 0 1 0 orient z 0 0 1  \n",
    "### region   \n",
    "构建模拟盒子大小以及划分模拟区域  \n",
    "region box block 0 10 0 10 0 10 units lattice  \n",
    "表示构建一个10a*10a*10a大小的模拟盒子（a为晶格常数），  \n",
    "units lattice为默认值  \n",
    "可以换成units box[那么这个盒子的大小就是10*10*10（埃）]  \n",
    "region 1 block 1 9 1 9 1 9  \n",
    "表示将盒子中x（1a-9a），y（1a-9a），z（1a-9a）的区域选中，定义为区域1，用于后续模拟。  \n",
    "注：一般box这个单词只用于与盒子相关的地方，只选取部分区域时，不要将其定义为box。  \n",
    "\n",
    "### create_box  \n",
    "LAMMPS模型中有几类原子，几类键等等  \n",
    "create_box 2 box  \n",
    "表示盒子中有2种原子。  \n",
    "create_box 2 box bond/type 2  \n",
    "表示盒子中有2种原子以及2种键长。  \n",
    "\n",
    "### create_atoms\n",
    "表示往盒子中添加原子  \n",
    "create_atoms 1 box  \n",
    "表示将类型1的原子按照lattice命令的设定填满盒子。  \n",
    "create_atoms 2 single 5 5 5  \n",
    "表示在坐标为（5a, 5a, 5a）的地方添加一个类型为2的原子。  \n",
    "\n",
    "### group \n",
    "表示将选中的原子定义为一个组，用于后续模拟    \n",
    "group 1 type 1  \n",
    "表示将所有类型为1的原子设置为1组；  \n",
    "group 2 region 2  \n",
    "表示将处于区域2中的所有原子设置为2组；  \n",
    "group 3 union 1 2  \n",
    "表示将1，2组合并为3组。  \n",
    "\n",
    "### delete_atoms命令：\n",
    "表示删除不需要的原子，例如  \n",
    "delete_atoms group1  \n",
    "表示将1组的原子删掉；  \n",
    "delete_atoms region 2  \n",
    "表示将区域2中的原子删掉；  "
   ]
  },
  {
   "cell_type": "markdown",
   "id": "071b7df0-5c70-4458-9643-9e1a539caa71",
   "metadata": {},
   "source": [
    "### 结构优化 静态优化方法 分子静力学方法\n",
    "`minimize 1.0e-12 1.0e-12 10000 10000`    \n",
    "1.0e-12:力的收敛精度  \n",
    "1.0e-12:能量的收敛精度  \n",
    "10000:最大迭代次数  \n",
    "10000:力和能量的最大评估次数  "
   ]
  },
  {
   "cell_type": "markdown",
   "id": "5747c768-135c-4a41-8f20-3949845344b8",
   "metadata": {},
   "source": [
    "### 定义原子/体系信息计算\n",
    "计算每个原子势能 1为compute代号  \n",
    "`compute 1 all pe/atom`   \n",
    "计算每个原子在x,y,z方向受力  \n",
    "`compute 1 all property/atom fx fy fz`     \n",
    "在命令`dump 1 all custom 100 W.xyz id type x y z`后面加上c_1(表示输出计算的原子势能)：    \n",
    "`dump 1 all custom 100 W.xyz id type x y z c_1`    \n",
    "c为compute的缩写，1为这个compute的代号，    \n",
    "若写为`compute x all pe/atom`, 则输出的写为c_x  "
   ]
  },
  {
   "cell_type": "markdown",
   "id": "39e14c75-393c-4179-823f-fcef7c8341c8",
   "metadata": {},
   "source": [
    "### 定义输出原子/体系(热力学)信息(1)\n",
    "`thermo` 定义多少步输出一次热力学信息  \n",
    "`thermo_style` 输出需要的热力学信息  \n",
    "`thermo_tyle style args`  \n",
    "`thermo_style custom step temp ke pe etotal`  \n",
    "其中`custom`表示所需的热力学信息由我们自定义：  \n",
    "- `step`表示输出运行的步数是多少   \n",
    "- `temp`表示体系的温度  \n",
    "- `ke`表示体系的动能  \n",
    "- `pe`表示体系的势能  \n",
    "- `pxx,pyy,pzz,pxy...`表示体系各个方向的压强  "
   ]
  },
  {
   "cell_type": "markdown",
   "id": "06286a90-b8ca-4c87-a839-d1ad407cbca2",
   "metadata": {},
   "source": [
    "### 定义输出原子/体系(热力学)信息(2)\n",
    "一般重要结果都是通过`dump`输出    \n",
    "`dump 1 all custom 500 file_name.xyz id type x y z`    \n",
    "`all`表示对于所有原子（当然也有只输出一部分原子的表示方式，与之前介绍的group命令相关），500表示每运行500步输出一次`file_name.xyz`为输出文件的文件名，而其中的内容有：\n",
    "- `id`：原子的序号\n",
    "- `type`：原子的类型\n",
    "- `x,y以及z`：原子的坐标"
   ]
  },
  {
   "cell_type": "markdown",
   "id": "63918b30-2f4e-4a25-8560-9184ff2bba13",
   "metadata": {},
   "source": [
    "### 模拟环境设定\n",
    "`velocity` `fix` `timestep` `run`  \n",
    "#### velocity\n",
    "分子动力学模拟，模拟过程中原子是动的，模拟初期我们需要给与原子初速度。  \n",
    "`velocity all create 300.0 4928459 dist gaussian`    \n",
    "其中`all`表示赋予所有原子   \n",
    "`300`为300 K；  \n",
    "`4928459`为随机正整数；   \n",
    "`dist gaussian`为原子速度分布满足高斯分布。   \n",
    "#### timestep\n",
    "设置模拟步长\n",
    "`timestep 0.001` (ps还是fs与之前介绍的units命令有关)     \n",
    "#### fix   \n",
    "设置模拟系综（nve,nvt,npt等）  \n",
    "`fix 1 all nvt temp 300 300 100.0`  \n",
    "控制体系在温度为300K左右的nvt环境下模拟\n",
    "对原子进行操作  \n",
    "`fix 2 bottom setforce 0.0 0.0 0.0`  \n",
    "设定bottom区域（region命令）的原子的受力为0（固定原子时会用到）   \n",
    "帮助输出所需信息，例：\n",
    "`fix extra all print 100 \"Coords of marker atom =$x $y $z\" file coord.txt`\n",
    "#### run\n",
    "设置运行步数\n",
    "`run 10000`\n",
    "表示运行10000步，运行步数与步长相乘即可得模拟时间（不是计算时间~）"
   ]
  },
  {
   "cell_type": "code",
   "execution_count": null,
   "id": "a4684ea4-9606-4a00-9b63-b44d6174073b",
   "metadata": {},
   "outputs": [],
   "source": []
  }
 ],
 "metadata": {
  "kernelspec": {
   "display_name": "Python 3",
   "language": "python",
   "name": "python3"
  },
  "language_info": {
   "codemirror_mode": {
    "name": "ipython",
    "version": 3
   },
   "file_extension": ".py",
   "mimetype": "text/x-python",
   "name": "python",
   "nbconvert_exporter": "python",
   "pygments_lexer": "ipython3",
   "version": "3.7.6"
  }
 },
 "nbformat": 4,
 "nbformat_minor": 5
}
