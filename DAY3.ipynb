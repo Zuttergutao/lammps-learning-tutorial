{
 "cells": [
  {
   "cell_type": "markdown",
   "id": "243e4757-5001-4e2e-825e-559d22ba827d",
   "metadata": {},
   "source": [
    "## BCC结构W中空位形成能的计算，与空位形成能对应的是自间隙子形成能"
   ]
  },
  {
   "cell_type": "code",
   "execution_count": null,
   "id": "dfea860a-fb6e-4b98-ae49-f177142d70d5",
   "metadata": {
    "tags": []
   },
   "outputs": [],
   "source": [
    "%%writefile day3.in\n",
    "#初始化系统\n",
    "units metal\n",
    "atom_style atomic\n",
    "boundary  p p p\n",
    "neighbor 0.3 bin\n",
    "# 构建钨模型\n",
    "lattice bcc 3.168\n",
    "region box block 0 10 0 10 0 10\n",
    "create_box 1 box\n",
    "create_atoms 1 box\n",
    "# 定义相互作用势\n",
    "pair_style eam/alloy\n",
    "pair_coeff * * W_zhou.eam.alloy W\n",
    "#定义热力学信息输出\n",
    "thermo 10\n",
    "dump 1 all custom 1 day3.xyz id type x y z\n",
    "#结构优化\n",
    "minimize 1e-12 1e-12 10000 10000\n",
    "#记录优化后的能量与原子数目\n",
    "variable E0 equal etotal\n",
    "variable E_prefect equal ${E0}\n",
    "variable N equal count(all)\n",
    "variable N0 equal ${N}\n",
    "#删除中心原子\n",
    "region 2 sphere 5.5 5.5 5.5 0.1 side in\n",
    "delete_atoms region 2\n",
    "#在特定位置添加w原子\n",
    "create_atoms 1 single 5.25 5.25 5.25\n",
    "create_atoms 1 single 5.75 5.75 5.75\n",
    "#结构优化得到E_defect能量\n",
    "minimize 1e-12 1e-12 10000 10000\n",
    "#记录二次优化能量值\n",
    "variable E_defect equal etotal\n",
    "variable Ev equal (${E_defect}-((${N0}+1)/${N0})*${E_prefect})\n",
    "print \"all done\"\n",
    "print \"SIA formation energy = ${Ev} ev\""
   ]
  },
  {
   "cell_type": "code",
   "execution_count": null,
   "id": "9e4b3310-bc2b-456f-8380-266678f9c816",
   "metadata": {
    "tags": []
   },
   "outputs": [],
   "source": [
    "!\"E:/LAMMPS/bin/lmp\" < day3.in"
   ]
  },
  {
   "cell_type": "markdown",
   "id": "ab53709a-3c52-4e7d-ae18-580a933e0a9f",
   "metadata": {
    "tags": []
   },
   "source": [
    "## Lammps 循环计算方法\n",
    "`variable`  \n",
    "`clear`  \n",
    "`jump`  \n",
    "`next`  \n",
    "`quit`  \n",
    "`variable i loop 5` 定义循环5次  \n",
    "`variable seed index 666 888 999 1010 555`定义随机数seed   \n",
    "`clear` 清除之前所有定义  \n",
    "`next i`  \n",
    "`next seed`将i和seed值换为下一个  \n",
    "`jump relax.in` 进入`relax.in`文件重新执行其中的命令  \n",
    "`quit` 跳出循环  \n",
    "定义的变量i可以用于输出的文件名，来观察不同seed情况下的弛豫情况`dump 1 all custom 100 W.${i}.xyz  id  type x y z`\n",
    "\n"
   ]
  },
  {
   "cell_type": "code",
   "execution_count": null,
   "id": "f04fae12-9742-4ac0-8fae-028c0ee2caef",
   "metadata": {
    "tags": []
   },
   "outputs": [],
   "source": [
    "%%writefile loop.in\n",
    "#定义循环变量\n",
    "variable i loop 5\n",
    "variable seed index 666 888 999 1010 555\n",
    "# 初始系统设置\n",
    "units metal\n",
    "atom_style atomic\n",
    "boundary p p p\n",
    "#初始模型构建\n",
    "lattice bcc 3.168\n",
    "region box block 0 5 0 5 0 5\n",
    "create_box 1 box \n",
    "create_atoms 1 box \n",
    "#定义原子相互作用势\n",
    "pair_style eam/alloy\n",
    "pair_coeff * * W_zhou.eam.alloy W\n",
    "#计算原子势能\n",
    "compute 1 all pe/atom\n",
    "#定义输出原子/体系信息\n",
    "thermo 100\n",
    "thermo_style custom step temp pe etotal dt time\n",
    "dump 1 all custom 100 W.${i}.xyz id type x y z c_1\n",
    "#设定运行环境并运行\n",
    "velocity all create 300 ${seed} mom yes rot yes dist gaussian\n",
    "fix 1 all nvt temp 300 300 0.05\n",
    "timestep 0.001\n",
    "run 1000\n",
    "print \"*******************************************\"\n",
    "print \"JOB ${i} has been done\"\n",
    "print \"*******************************************\"\n",
    "#进行下一次循环\n",
    "clear\n",
    "next i\n",
    "next seed\n",
    "jump loop.in\n",
    "#循环结束\n",
    "quit"
   ]
  },
  {
   "cell_type": "code",
   "execution_count": null,
   "id": "28fe8100-9e01-48b7-b7bb-2c19392ad75b",
   "metadata": {
    "tags": []
   },
   "outputs": [],
   "source": [
    "!\"E:/LAMMPS/bin/lmp\" < loop.in"
   ]
  },
  {
   "cell_type": "markdown",
   "id": "8504e358-9a4d-46ae-9f70-5bf980e7a989",
   "metadata": {},
   "source": [
    "## Fe中的辐照损伤模拟\n",
    "用一个小体系为例简单进行模拟过程（这也是做MD的原则之一，不要一开始就跑大体系，先跑个小体系试试情况，没问题再上大体系）    \n",
    "`unfix 1` 解除nvt系综(必须)  \n",
    "`velocity pka set 300 500 600 units box` 给pka原子速度赋值  \n",
    "`fix 2 all dt/reset 1 0.00000001 0.0005 0.005 units lattice`\n",
    "由于碰撞过程中原子的速度过快，为了保证力和能量的计算精度，需要根据原子运行的距离控制时间步长，一般来说保证一个步长时间内，原子运行距离不能超过0.005a（a为晶格常数）"
   ]
  },
  {
   "cell_type": "markdown",
   "id": "09a852a6-d29d-4130-97f6-a03fa4de3b43",
   "metadata": {},
   "source": [
    "### fix\n",
    "--- 每多少步基于原子速度与受力重置时间步长，防止原子移动距离过大   \n",
    "`fix ID group-ID dt/reset N Tmin Tmax Xmax keyword values ...`  \n",
    "- ID, group-ID are documented in fix command\n",
    "- dt/reset = style name of this fix command\n",
    "- N = re-compute dt every N timesteps\n",
    "- Tmin = minimum dt allowed which can be NULL (time units)\n",
    "- Tmax = maximum dt allowed which can be NULL (time units)\n",
    "- Xmax = maximum distance for an atom to move in one timestep (distance units)\n",
    "- zero or more keyword/value pairs may be appended\n",
    "- keyword = emax or units  \n",
    "\n",
    "```bash\n",
    "emax value = Emax\n",
    "  Emax = maximum kinetic energy change for an atom in one timestep (energy units)\n",
    "units value = lattice or box\n",
    "  lattice = Xmax is defined in lattice units\n",
    "  box = Xmax is defined in simulation box units\n",
    "```"
   ]
  },
  {
   "cell_type": "markdown",
   "id": "7eea8b73-c5fe-4502-8df9-0682224141d9",
   "metadata": {
    "tags": []
   },
   "source": [
    "### velocity\n",
    "--- 设置原子速度  \n",
    "`velocity group-ID style args keyword value`  \n",
    "- group-ID = ID of group of atoms whose velocity will be changed  \n",
    "- style = create or set or scale or ramp or zero\n",
    "```bash\n",
    "create args = temp seed\n",
    "  temp = temperature value (temperature units)\n",
    "  seed = random # seed (positive integer)\n",
    "set args = vx vy vz\n",
    "  vx,vy,vz = velocity value or NULL (velocity units)\n",
    "  any of vx,vy,vz van be a variable (see below)\n",
    "scale arg = temp\n",
    "  temp = temperature value (temperature units)\n",
    "ramp args = vdim vlo vhi dim clo chi\n",
    "  vdim = vx or vy or vz\n",
    "  vlo,vhi = lower and upper velocity value (velocity units)\n",
    "  dim = x or y or z\n",
    "  clo,chi = lower and upper coordinate bound (distance units)\n",
    "zero arg = linear or angular\n",
    "  linear = zero the linear momentum\n",
    "  angular = zero the angular momentum\n",
    "```\n",
    "- zero or more keyword/value pairs may be appended\n",
    "- keyword = dist or sum or mom or rot or temp or bias or loop or units  \n",
    "```bash\n",
    "dist value = uniform or gaussian\n",
    "sum value = no or yes\n",
    "mom value = no or yes\n",
    "rot value = no or yes\n",
    "temp value = temperature compute ID\n",
    "bias value = no or yes\n",
    "loop value = all or local or geom\n",
    "rigid value = fix-ID\n",
    "  fix-ID = ID of rigid body fix\n",
    "units value = box or lattice\n",
    "```"
   ]
  },
  {
   "cell_type": "code",
   "execution_count": null,
   "id": "b88e97ae-248c-4e62-b934-ac2c84addefd",
   "metadata": {
    "tags": []
   },
   "outputs": [],
   "source": [
    "%%writefile Fe.in\n",
    "units metal\n",
    "atom_style atomic\n",
    "boundary p p p\n",
    "lattice bcc 2.8552\n",
    "region box block 0 30 0 30 0 30 units lattice  \n",
    "create_box 1 box\n",
    "create_atoms 1 box\n",
    "region rpka sphere 15 15 15 0.2 units lattice\n",
    "group pka region rpka\n",
    "pair_style eam/fs\n",
    "pair_coeff * * Fe_mm.eam.fs Fe\n",
    "thermo 2000\n",
    "thermo_style custom step temp etotal time\n",
    "dump 1 all custom 500 Fe.xyz id type x y z\n",
    "# nvt\n",
    "velocity all create 1000 666 rot yes dist gaussian\n",
    "fix 1 all nvt temp 300 300 0.05\n",
    "timestep 0.001\n",
    "run 15000\n",
    "# nve\n",
    "unfix 1 \n",
    "velocity pka set 300 500 600 units box\n",
    "fix 1 all nve \n",
    "fix 2 all dt/reset 1 0.00000001 0.0005 0.005 units lattice\n",
    "run 75000"
   ]
  },
  {
   "cell_type": "code",
   "execution_count": null,
   "id": "950cd4d8-2da9-4d29-a591-d9e632e7ffa6",
   "metadata": {},
   "outputs": [],
   "source": [
    "!\"E:/LAMMPS/bin/lmp\" < Fe.in"
   ]
  },
  {
   "cell_type": "markdown",
   "id": "f150464c-4273-41b3-a3db-9fdd7aea6ffe",
   "metadata": {},
   "source": [
    "## 完整的辐照损伤任务\n",
    "注：\n",
    "- 体系大小应该随着PKA原子能量的变化而变化，设定的PKA原子能量越大，那么构建的体系也应该越大，要保证级联碰撞过程处于体系中心，不会影响边界原子~\n",
    "- 速度的大小和方向也可以类似温度一样设置为变量，方便后续更改\n",
    "- 影响级联碰撞模拟结果的参数有两个：\n",
    "    - 温度\n",
    "    - PKA原子能量"
   ]
  },
  {
   "cell_type": "code",
   "execution_count": null,
   "id": "d81dd950-af73-40e2-bfe2-cbf4a5721a9a",
   "metadata": {},
   "outputs": [],
   "source": [
    "%%writefile Fe_loop.in\n",
    "package omp 8\n",
    "#定义循环变量\n",
    "variable i loop 10\n",
    "variable seed index 6 8 9 7 2 77 88 66 99 17\n",
    "variable T equal 300\n",
    "#系统初始化\n",
    "units metal \n",
    "atom_style atomic\n",
    "boundary p p p\n",
    "#初始模型\n",
    "lattice bcc 2.8552\n",
    "region box block 0 30 0 30 0 30 units lattice\n",
    "create_box 1 box\n",
    "create_atoms 1 box\n",
    "#选取中心原子为pka原子\n",
    "region rpka sphere 15 15 15 0.2 units lattice\n",
    "group  pka region rpka\n",
    "#定义原子间相互作用势\n",
    "pair_style eam/fs\n",
    "pair_coeff * * Fe_mm.eam.fs Fe\n",
    "#定义输出\n",
    "thermo 2000\n",
    "thermo_style custom step temp etotal time\n",
    "dump 1 all custom 500 Fe.${i}.${T}.xyz id type x y z\n",
    "#模拟环境设定\n",
    "velocity all create ${T} ${seed} rot yes dist gaussian\n",
    "fix 1 all nvt temp ${T} ${T} 0.05\n",
    "timestep 0.001\n",
    "run 15000\n",
    "unfix 1\n",
    "velocity pka set 300 500 600 units box\n",
    "fix 1 all nve \n",
    "fix 2 all dt/reset 1 0.00000001 0.0005 0.005 units lattice\n",
    "run 75000\n",
    "print \"************************************\"\n",
    "print \"JOB ${i} done\"\n",
    "print \"************************************\"\n",
    "#进行循环\n",
    "clear \n",
    "next i \n",
    "next seed\n",
    "jump Fe_loop.in\n",
    "quit"
   ]
  },
  {
   "cell_type": "code",
   "execution_count": null,
   "id": "9da907ca-8286-40b3-8550-a7bce59c674c",
   "metadata": {},
   "outputs": [],
   "source": [
    "!\"E:/LAMMPS/bin/lmp\" < Fe_loop.in"
   ]
  },
  {
   "cell_type": "code",
   "execution_count": null,
   "id": "e809d888-9a24-45b6-998e-d29de1ebf93b",
   "metadata": {},
   "outputs": [],
   "source": []
  }
 ],
 "metadata": {
  "kernelspec": {
   "display_name": "Python 3",
   "language": "python",
   "name": "python3"
  },
  "language_info": {
   "codemirror_mode": {
    "name": "ipython",
    "version": 3
   },
   "file_extension": ".py",
   "mimetype": "text/x-python",
   "name": "python",
   "nbconvert_exporter": "python",
   "pygments_lexer": "ipython3",
   "version": "3.7.6"
  }
 },
 "nbformat": 4,
 "nbformat_minor": 5
}
