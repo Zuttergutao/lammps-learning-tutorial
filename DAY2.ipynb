{
 "cells": [
  {
   "cell_type": "markdown",
   "id": "ea377ffe-efa9-47f8-81bd-9988729126e3",
   "metadata": {},
   "source": [
    "### 从log文件输出信息  \n",
    "`variable`  \n",
    "`print`  \n",
    "`variable`用于变量定义\n",
    "`variable E0 equal etotal`   \n",
    "`variable E_prefect equal ${E0}`  \n",
    "由于`etotal`是系统的总能量值（特殊的词，LAMMPS中已定义为系统总能量，其它热力学信息特定词可详查`thermo_style`命令），会随着命令的执行而不断变化，所以这里连用两个`variable`命令来记录第一次优化后系统的能量值。  \n",
    "`variable  N equal count(all)`  \n",
    "`variable  N0 equal ${N}`  \n",
    "同理，连用两个`variable`命令来记录第一次优化后的总原子数，`count（all）`表示计算总原子数目。  \n",
    "而第二次（最后一次）优化后，由于`etotal`不再变化，则只需用一个`variable`命令记录。  "
   ]
  },
  {
   "cell_type": "code",
   "execution_count": null,
   "id": "99bd39f8-a6cb-48c0-9cdd-49022a41e167",
   "metadata": {},
   "outputs": [],
   "source": [
    "%%writefile ex1.in\n",
    "units metal\n",
    "atom_style atomic \n",
    "boundary p p p \n",
    "neighbor 0.3 bin\n",
    "\n",
    "lattice bcc 3.168\n",
    "region box block  0 10 0 10 0 10\n",
    "create_box 1 box\n",
    "create_atoms 1 box\n",
    "\n",
    "pair_style eam/alloy\n",
    "pair_coeff * * W_zhou.eam.alloy W\n",
    "\n",
    "thermo 10\n",
    "dump 1 all custom 1 vacancy.xvz id type x y z\n",
    "\n",
    "minimize 1.0e-12 1.0e-13 10000 10000\n",
    "\n",
    "# 记录第一次优化后的能量值与总原子数目\n",
    "variable E0 equal etotal\n",
    "variable E_prefect equal ${E0}\n",
    "variable N equal count(all)\n",
    "variable N0 equal ${N}\n",
    "\n",
    "region 2 sphere 5.0 5.0 5.0 0.1 side in\n",
    "delete_atoms region 2\n",
    "\n",
    "minimize 1.0e-12 1.0e-13 10000 10000\n",
    "variable E_defect equal etotal\n",
    "variable Ev equal (${E_defect}-((${N0}-1)/${N0})*${E_prefect})\n",
    "\n",
    "print \"ALL done\"\n",
    "print \"Vacancy formation energy = ${Ev} ev\""
   ]
  },
  {
   "cell_type": "code",
   "execution_count": null,
   "id": "c1bc438e-65d5-4003-8be1-9203fa0bfeff",
   "metadata": {
    "tags": []
   },
   "outputs": [],
   "source": [
    "!\"E:/LAMMPS/bin/lmp\" < ex1.in"
   ]
  },
  {
   "cell_type": "code",
   "execution_count": null,
   "id": "37ec12ff-4595-472c-80b4-516283b5bbea",
   "metadata": {},
   "outputs": [],
   "source": []
  }
 ],
 "metadata": {
  "kernelspec": {
   "display_name": "Python 3",
   "language": "python",
   "name": "python3"
  },
  "language_info": {
   "codemirror_mode": {
    "name": "ipython",
    "version": 3
   },
   "file_extension": ".py",
   "mimetype": "text/x-python",
   "name": "python",
   "nbconvert_exporter": "python",
   "pygments_lexer": "ipython3",
   "version": "3.7.6"
  }
 },
 "nbformat": 4,
 "nbformat_minor": 5
}
